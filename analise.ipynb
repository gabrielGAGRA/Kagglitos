{
 "cells": [
  {
   "cell_type": "markdown",
   "metadata": {},
   "source": [
    "### **Sempre rode essa primeira célula antes de rodar qualquer outra**"
   ]
  },
  {
   "cell_type": "code",
   "execution_count": null,
   "metadata": {},
   "outputs": [],
   "source": [
    "import matplotlib.pyplot as plt\n",
    "import pandas as pd\n",
    "import seaborn as sns\n",
    "\n",
    "DATA_URL = r\"C:\\Users\\gabri\\Documents\\PROJETOS\\PY\\PJ_Code\\DE\\Data\\relacao_total.csv\"\n",
    "df = pd.read_csv(DATA_URL)\n",
    "\n",
    "#ajuste nome da coluna em [''] confome o dado a ser analisado\n",
    "data = 'delta'"
   ]
  },
  {
   "cell_type": "markdown",
   "metadata": {},
   "source": [
    "#### Gráfico de coluna (x, y)"
   ]
  },
  {
   "cell_type": "code",
   "execution_count": null,
   "metadata": {},
   "outputs": [],
   "source": [
    "df[data].plot(\n",
    "    kind=\"density\", subplots=True, layout=(1, 2), sharex=False, figsize=(10, 4)\n",
    ");\n",
    "\n",
    "#adiciona limites ao eixo x, ajuste conforme necessidade\n",
    "plt.xlim(-30, 40) \n",
    "plt.show()"
   ]
  },
  {
   "cell_type": "markdown",
   "metadata": {},
   "source": [
    "#### Grafico para mostrar faixa comum e outliers:"
   ]
  },
  {
   "cell_type": "code",
   "execution_count": null,
   "metadata": {},
   "outputs": [],
   "source": [
    "sns.boxplot(x=data, data=df)\n",
    "plt.show()"
   ]
  },
  {
   "cell_type": "markdown",
   "metadata": {},
   "source": [
    "#### Grafico de violino (ver distribuicao e outliers):"
   ]
  },
  {
   "cell_type": "code",
   "execution_count": null,
   "metadata": {},
   "outputs": [],
   "source": [
    "sns.violinplot(y= data, data=df)\n",
    "plt.show()"
   ]
  },
  {
   "cell_type": "markdown",
   "metadata": {},
   "source": [
    "#### Grafico de correlacao de variaveis (heatmap):"
   ]
  },
  {
   "cell_type": "code",
   "execution_count": null,
   "metadata": {},
   "outputs": [],
   "source": [
    "import numpy as np\n",
    "\n",
    "lista_de_dados = list(\n",
    "    set(df.columns)\n",
    "    - set(\n",
    "        [   \n",
    "            #adicione aqui os dados que NAO quer no grafico\n",
    "            \"delta\",\n",
    "            \"product_category_name\",\n",
    "            \"customer_state\",\n",
    "            \"customer_city\",\n",
    "            \"customer_zip_code_prefix\",\n",
    "            \"seller_state\",\n",
    "            \"seller_city\",\n",
    "            \"seller_zip_code_prefix\"\n",
    "        ]\n",
    "    )\n",
    ")\n",
    "\n",
    "plt.figure(figsize=(10, 8))\n",
    "\n",
    "corr_matrix = df[lista_de_dados].corr()\n",
    "\n",
    "mask = np.triu(np.ones_like(corr_matrix, dtype=bool))\n",
    "\n",
    "sns.heatmap(corr_matrix, mask=mask, annot=True, fmt=\".2f\", cmap=\"coolwarm\", linewidths=.5)\n",
    "\n",
    "plt.xticks(rotation=45, ha=\"right\")\n",
    "plt.yticks(rotation=45)\n",
    "\n",
    "plt.show()"
   ]
  },
  {
   "cell_type": "markdown",
   "metadata": {},
   "source": [
    "#### Correlacao de uma variavel com as outras (heatmaps):"
   ]
  },
  {
   "cell_type": "code",
   "execution_count": null,
   "metadata": {},
   "outputs": [],
   "source": [
    "#adicione as variaveis a serem comparadas com a principal\n",
    "variables_to_compare = ['product_weight_g', 'volume', 'freight_value'] \n",
    "\n",
    "for variable in variables_to_compare:\n",
    "    #troque delivery_time pela variavel que quer (PRINICIPAL)\n",
    "    corr_matrix = df[['delivery_time', variable]].corr()\n",
    "    plt.figure(figsize=(5, 4))\n",
    "    sns.heatmap(corr_matrix, annot=True, cmap='coolwarm')\n",
    "    plt.show()"
   ]
  },
  {
   "cell_type": "markdown",
   "metadata": {},
   "source": [
    "#### Grafico scatter (pontos):"
   ]
  },
  {
   "cell_type": "code",
   "execution_count": null,
   "metadata": {},
   "outputs": [],
   "source": [
    " #coloque as duas variaveis a serem comparadas\n",
    "plt.scatter(df['delivery_time'], df['freight_value'])\n",
    "\n",
    "#limites aos eixos x e y\n",
    "plt.ylim(0, 350) \n",
    "plt.xlim(-30, 40) \n",
    "plt.show()"
   ]
  },
  {
   "cell_type": "markdown",
   "metadata": {},
   "source": [
    "#### Mostrar base e outliers entre uma categoria e um numero:\n",
    "Ex: delivery time por estado do cliente"
   ]
  },
  {
   "cell_type": "code",
   "execution_count": null,
   "metadata": {},
   "outputs": [],
   "source": [
    "plt.figure(figsize=(10, 7))\n",
    "sns.boxplot(x='customer_state', y='delivery_time', data=df) #ajuste variaveis\n",
    "\n",
    "plt.tight_layout()\n",
    "plt.show()"
   ]
  }
 ],
 "metadata": {
  "kernelspec": {
   "display_name": "Python 3",
   "language": "python",
   "name": "python3"
  },
  "language_info": {
   "codemirror_mode": {
    "name": "ipython",
    "version": 3
   },
   "file_extension": ".py",
   "mimetype": "text/x-python",
   "name": "python",
   "nbconvert_exporter": "python",
   "pygments_lexer": "ipython3",
   "version": "3.12.3"
  }
 },
 "nbformat": 4,
 "nbformat_minor": 2
}
